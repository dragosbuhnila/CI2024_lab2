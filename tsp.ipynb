{
 "cells": [
  {
   "cell_type": "markdown",
   "metadata": {
    "vscode": {
     "languageId": "plaintext"
    }
   },
   "source": [
    "Copyright **`(c)`** 2024 Giovanni Squillero `<giovanni.squillero@polito.it>`  \n",
    "[`https://github.com/squillero/computational-intelligence`](https://github.com/squillero/computational-intelligence)  \n",
    "Free under certain conditions — see the [`license`](https://github.com/squillero/computational-intelligence/blob/master/LICENSE.md) for details.  "
   ]
  },
  {
   "cell_type": "code",
   "execution_count": 348,
   "metadata": {},
   "outputs": [],
   "source": [
    "from itertools import combinations\n",
    "from collections import deque\n",
    "import numpy as np\n",
    "import random\n",
    "from geopy.distance import geodesic\n",
    "import networkx as nx\n",
    "\n",
    "import pandas as pd\n",
    "from icecream import ic\n",
    "import logging\n",
    "import pickle\n",
    "\n",
    "logging.basicConfig(level=logging.DEBUG)"
   ]
  },
  {
   "cell_type": "markdown",
   "metadata": {},
   "source": [
    "# Initialization"
   ]
  },
  {
   "cell_type": "code",
   "execution_count": 349,
   "metadata": {},
   "outputs": [
    {
     "data": {
      "text/plain": [
       "np.float64(349.30401144305745)"
      ]
     },
     "execution_count": 349,
     "metadata": {},
     "output_type": "execute_result"
    }
   ],
   "source": [
    "COUNTRY = 'italy'\n",
    "# Read the CSV file\n",
    "CITIES = pd.read_csv(f'cities/{COUNTRY}.csv', header=None, names = ['name', 'lat', 'lon'])\n",
    "\n",
    "# Calculate distances between all cities\n",
    "DIST_MATRIX = np.zeros((len(CITIES), len(CITIES)))\n",
    "for c1, c2 in combinations(CITIES.itertuples(), 2):\n",
    "    DIST_MATRIX[c1.Index, c2.Index] = DIST_MATRIX[c2.Index, c1.Index] = geodesic((c1.lat, c1.lon), (c2.lat, c2.lon)).km\n",
    "\n",
    "DIST_MATRIX[0, 1]"
   ]
  },
  {
   "cell_type": "markdown",
   "metadata": {},
   "source": [
    "# Helper Functions"
   ]
  },
  {
   "cell_type": "code",
   "execution_count": 350,
   "metadata": {},
   "outputs": [],
   "source": [
    "def tsp_cost(tsp: list[int]) -> float:\n",
    "    # Check that the TSP is a cycle and that all cities have been covered\n",
    "    assert tsp[0] == tsp[-1], f\"first city is #{tsp[0]}, last city is #{tsp[-1]}\"\n",
    "    # logging.debug(f\"set(tsp): {set(tsp)}\\nset(range(len(tsp))): {set(range(len(tsp)))}\")\n",
    "    assert set(tsp) == set(range(len(tsp) - 1)), f\"tsp covers {len(tsp)}, should cover {len(tsp) - 1}\"\n",
    "\n",
    "    # Finally, compute the total cost\n",
    "    tot_cost = 0\n",
    "    for c1, c2 in zip(tsp, tsp[1:]):\n",
    "        tot_cost += DIST_MATRIX[c1, c2]\n",
    "\n",
    "    return tot_cost\n",
    "\n",
    "def print_tsp(tsp: list):\n",
    "    first = True\n",
    "    for city in tsp:\n",
    "        if first:\n",
    "            prev_city = city\n",
    "            first = False\n",
    "            continue\n",
    "\n",
    "        logging.info(f\"step: {CITIES.at[prev_city,'name']} -> {CITIES.at[city,'name']} ({DIST_MATRIX[prev_city, city]:.2f}km)\")\n",
    "        prev_city = city\n",
    "\n",
    "    logging.info(f\"result: Found a path of {len(tsp)-1} steps, total length {tsp_cost(tsp):.2f}km\")\n",
    "\n"
   ]
  },
  {
   "cell_type": "markdown",
   "metadata": {},
   "source": [
    "# Segments"
   ]
  },
  {
   "cell_type": "code",
   "execution_count": 351,
   "metadata": {},
   "outputs": [],
   "source": [
    "def tsp_segment_to_series(tsp: list[tuple]) -> list[int]:\n",
    "    # Convert the list of segments to a list of cities\n",
    "    tsp_series = [t[0] for t in tsp]\n",
    "    tsp_series.append(tsp[0][0])\n",
    "    return tsp_series\n",
    "\n",
    "\n",
    "# def print_tsp_segments(tsp: list):\n",
    "#     # logging.info(f\"Total cost: {tsp_cost(tsp):.2f}km\")\n",
    "\n",
    "#     for segment in tsp:\n",
    "#         city1, city2 = segment\n",
    "#         logging.info(f\"step: {CITIES.at[city1,'name']} -> {CITIES.at[city2,'name']} ({DIST_MATRIX[city1, city2]:.2f}km)\")\n",
    "\n",
    "\n",
    "def complete_segment_tsp(tsp: list[tuple], degrees: list[int]) -> list[tuple]:\n",
    "    assert len(degrees) == len(CITIES), f\"len(degrees)={len(degrees)} != len(CITIES)={len(CITIES)}\"\n",
    "    assert all (degree > 0 for degree in degrees), f\"degrees={degrees} should be all > 0\"\n",
    "\n",
    "    indices_with_value_1 = [index for index, value in enumerate(degrees) if value == 1]\n",
    "    assert len(indices_with_value_1) == 2, f\"len(indices_with_value_1)={len(indices_with_value_1)} != 2\"\n",
    "    tsp.append((indices_with_value_1[0], indices_with_value_1[1]))\n",
    "\n",
    "    return tsp\n",
    "\n",
    "def order_segments(segments: list[tuple]) -> list[tuple]:\n",
    "    # Create a dictionary to map each node to its connected nodes\n",
    "    connections = {}\n",
    "    for u, v in segments:\n",
    "        if u in connections:\n",
    "            connections[u].append(v)\n",
    "        else:\n",
    "            connections[u] = [v]\n",
    "        if v in connections:\n",
    "            connections[v].append(u)\n",
    "        else:\n",
    "            connections[v] = [u]\n",
    "\n",
    "    # Start with the first segment in the list\n",
    "    ordered_segments = [segments[0]]\n",
    "    current = segments[0][1]\n",
    "\n",
    "    # Reorder the list by following the connections\n",
    "    while len(ordered_segments) < len(segments):\n",
    "        next_city = connections[current].pop()\n",
    "        connections[next_city].remove(current)\n",
    "        next_segment = (current, next_city)\n",
    "        ordered_segments.append(next_segment)\n",
    "        current = next_city\n",
    "\n",
    "    return ordered_segments\n"
   ]
  },
  {
   "cell_type": "markdown",
   "metadata": {},
   "source": [
    "## Lab2 - TSP\n",
    "\n",
    "https://www.wolframcloud.com/obj/giovanni.squillero/Published/Lab2-tsp.nb"
   ]
  },
  {
   "cell_type": "markdown",
   "metadata": {},
   "source": [
    "## First Greedy Algorithm: Taking Closest While Traversing"
   ]
  },
  {
   "cell_type": "code",
   "execution_count": 352,
   "metadata": {},
   "outputs": [
    {
     "data": {
      "text/html": [
       "<div>\n",
       "<style scoped>\n",
       "    .dataframe tbody tr th:only-of-type {\n",
       "        vertical-align: middle;\n",
       "    }\n",
       "\n",
       "    .dataframe tbody tr th {\n",
       "        vertical-align: top;\n",
       "    }\n",
       "\n",
       "    .dataframe thead th {\n",
       "        text-align: right;\n",
       "    }\n",
       "</style>\n",
       "<table border=\"1\" class=\"dataframe\">\n",
       "  <thead>\n",
       "    <tr style=\"text-align: right;\">\n",
       "      <th></th>\n",
       "      <th>name</th>\n",
       "      <th>lat</th>\n",
       "      <th>lon</th>\n",
       "    </tr>\n",
       "  </thead>\n",
       "  <tbody>\n",
       "    <tr>\n",
       "      <th>5</th>\n",
       "      <td>Bolzano</td>\n",
       "      <td>46.50</td>\n",
       "      <td>11.35</td>\n",
       "    </tr>\n",
       "    <tr>\n",
       "      <th>6</th>\n",
       "      <td>Brescia</td>\n",
       "      <td>45.55</td>\n",
       "      <td>10.22</td>\n",
       "    </tr>\n",
       "    <tr>\n",
       "      <th>7</th>\n",
       "      <td>Cagliari</td>\n",
       "      <td>39.22</td>\n",
       "      <td>9.10</td>\n",
       "    </tr>\n",
       "    <tr>\n",
       "      <th>8</th>\n",
       "      <td>Catania</td>\n",
       "      <td>37.50</td>\n",
       "      <td>15.08</td>\n",
       "    </tr>\n",
       "    <tr>\n",
       "      <th>9</th>\n",
       "      <td>Ferrara</td>\n",
       "      <td>44.84</td>\n",
       "      <td>11.61</td>\n",
       "    </tr>\n",
       "  </tbody>\n",
       "</table>\n",
       "</div>"
      ],
      "text/plain": [
       "       name    lat    lon\n",
       "5   Bolzano  46.50  11.35\n",
       "6   Brescia  45.55  10.22\n",
       "7  Cagliari  39.22   9.10\n",
       "8   Catania  37.50  15.08\n",
       "9   Ferrara  44.84  11.61"
      ]
     },
     "execution_count": 352,
     "metadata": {},
     "output_type": "execute_result"
    }
   ],
   "source": [
    "# # Iterate over the rows and log information\n",
    "# for index, row in cities.iterrows():\n",
    "#     logging.debug(f'Index: {index}: {row[\"name\"]} ({row.lat}, {row.lon})')\n",
    "#     if index == 10:\n",
    "#         break\n",
    "\n",
    "# Try subset of rows\n",
    "CITIES.iloc[5:10]"
   ]
  },
  {
   "cell_type": "code",
   "execution_count": 353,
   "metadata": {},
   "outputs": [
    {
     "name": "stderr",
     "output_type": "stream",
     "text": [
      "DEBUG:root:step: Ancona -> Rimini (90.60km)\n",
      "DEBUG:root:step: Rimini -> Forlì (46.72km)\n",
      "DEBUG:root:step: Forlì -> Ravenna (26.46km)\n",
      "DEBUG:root:step: Ravenna -> Ferrara (66.67km)\n",
      "DEBUG:root:step: Ferrara -> Bologna (43.43km)\n",
      "DEBUG:root:step: Bologna -> Modena (37.29km)\n",
      "DEBUG:root:step: Modena -> Reggio nell'Emilia (23.94km)\n",
      "DEBUG:root:step: Reggio nell'Emilia -> Parma (26.94km)\n",
      "DEBUG:root:step: Parma -> Piacenza (57.65km)\n",
      "DEBUG:root:step: Piacenza -> Milan (60.65km)\n",
      "DEBUG:root:step: Milan -> Monza (14.51km)\n",
      "DEBUG:root:step: Monza -> Bergamo (33.92km)\n",
      "DEBUG:root:step: Bergamo -> Brescia (46.02km)\n",
      "DEBUG:root:step: Brescia -> Verona (61.42km)\n",
      "DEBUG:root:step: Verona -> Vicenza (44.70km)\n",
      "DEBUG:root:step: Vicenza -> Padua (30.13km)\n",
      "DEBUG:root:step: Padua -> Venice (36.07km)\n",
      "DEBUG:root:step: Venice -> Trieste (115.09km)\n",
      "DEBUG:root:step: Trieste -> Bolzano (209.68km)\n",
      "DEBUG:root:step: Bolzano -> Trento (49.94km)\n",
      "DEBUG:root:step: Trento -> Novara (206.69km)\n",
      "DEBUG:root:step: Novara -> Turin (84.46km)\n",
      "DEBUG:root:step: Turin -> Genoa (123.19km)\n",
      "DEBUG:root:step: Genoa -> Leghorn (146.37km)\n",
      "DEBUG:root:step: Leghorn -> Prato (74.02km)\n",
      "DEBUG:root:step: Prato -> Florence (17.17km)\n",
      "DEBUG:root:step: Florence -> Perugia (119.19km)\n",
      "DEBUG:root:step: Perugia -> Terni (63.64km)\n",
      "DEBUG:root:step: Terni -> Rome (76.54km)\n",
      "DEBUG:root:step: Rome -> Latina (56.84km)\n",
      "DEBUG:root:step: Latina -> Giugliano in Campania (124.45km)\n",
      "DEBUG:root:step: Giugliano in Campania -> Naples (11.15km)\n",
      "DEBUG:root:step: Naples -> Salerno (46.25km)\n",
      "DEBUG:root:step: Salerno -> Foggia (109.52km)\n",
      "DEBUG:root:step: Foggia -> Andria (67.42km)\n",
      "DEBUG:root:step: Andria -> Bari (50.18km)\n",
      "DEBUG:root:step: Bari -> Taranto (77.63km)\n",
      "DEBUG:root:step: Taranto -> Messina (293.02km)\n",
      "DEBUG:root:step: Messina -> Reggio di Calabria (12.48km)\n",
      "DEBUG:root:step: Reggio di Calabria -> Catania (84.28km)\n",
      "DEBUG:root:step: Catania -> Syracuse (51.23km)\n",
      "DEBUG:root:step: Syracuse -> Palermo (206.47km)\n",
      "DEBUG:root:step: Palermo -> Cagliari (390.28km)\n",
      "DEBUG:root:step: Cagliari -> Sassari (173.89km)\n",
      "DEBUG:root:step: Sassari -> Pescara (508.61km)\n",
      "DEBUG:root:step: Pescara -> Ancona (139.24km)\n",
      "INFO:root:result: Found a path of 46 steps, total length 4436.03km\n"
     ]
    }
   ],
   "source": [
    "visited = np.full(len(CITIES), False)\n",
    "dist = DIST_MATRIX.copy()\n",
    "city = 0\n",
    "visited[city] = True\n",
    "\n",
    "tsp = list()\n",
    "tsp.append(int(city))\n",
    "\n",
    "while not np.all(visited):\n",
    "    dist[:, city] = np.inf\n",
    "    closest = np.argmin(dist[city])\n",
    "    logging.debug(f\"step: {CITIES.at[city,'name']} -> {CITIES.at[closest,'name']} ({DIST_MATRIX[city,closest]:.2f}km)\")\n",
    "    \n",
    "    visited[closest] = True\n",
    "    city = closest\n",
    "    tsp.append(int(city))\n",
    "    \n",
    "logging.debug(f\"step: {CITIES.at[tsp[-1],'name']} -> {CITIES.at[tsp[0],'name']} ({DIST_MATRIX[tsp[-1],tsp[0]]:.2f}km)\")\n",
    "tsp.append(tsp[0])\n",
    "\n",
    "tot_cost = tsp_cost(tsp)\n",
    "logging.info(f\"result: Found a path of {len(tsp)-1} steps, total length {tot_cost:.2f}km\")\n",
    "\n",
    "with open(f'{COUNTRY}_tsp_greedy1.pkl', 'wb') as file:\n",
    "    pickle.dump(tsp, file)\n",
    "tsp_greedy_1 = tsp"
   ]
  },
  {
   "cell_type": "markdown",
   "metadata": {},
   "source": [
    "## Second Greedy Algorithm: Taking Shortest Connections"
   ]
  },
  {
   "cell_type": "code",
   "execution_count": 354,
   "metadata": {},
   "outputs": [
    {
     "name": "stderr",
     "output_type": "stream",
     "text": [
      "INFO:root:step: Giugliano in Campania -> Naples (11.15km)\n",
      "INFO:root:step: Naples -> Salerno (46.25km)\n",
      "INFO:root:step: Salerno -> Foggia (109.52km)\n",
      "INFO:root:step: Foggia -> Andria (67.42km)\n",
      "INFO:root:step: Andria -> Bari (50.18km)\n",
      "INFO:root:step: Bari -> Taranto (77.63km)\n",
      "INFO:root:step: Taranto -> Pescara (335.25km)\n",
      "INFO:root:step: Pescara -> Syracuse (605.55km)\n",
      "INFO:root:step: Syracuse -> Catania (51.23km)\n",
      "INFO:root:step: Catania -> Reggio di Calabria (84.28km)\n",
      "INFO:root:step: Reggio di Calabria -> Messina (12.48km)\n",
      "INFO:root:step: Messina -> Palermo (192.10km)\n",
      "INFO:root:step: Palermo -> Cagliari (390.28km)\n",
      "INFO:root:step: Cagliari -> Sassari (173.89km)\n",
      "INFO:root:step: Sassari -> Leghorn (344.66km)\n",
      "INFO:root:step: Leghorn -> Prato (74.02km)\n",
      "INFO:root:step: Prato -> Florence (17.17km)\n",
      "INFO:root:step: Florence -> Trento (255.78km)\n",
      "INFO:root:step: Trento -> Bolzano (49.94km)\n",
      "INFO:root:step: Bolzano -> Trieste (209.68km)\n",
      "INFO:root:step: Trieste -> Venice (115.09km)\n",
      "INFO:root:step: Venice -> Padua (36.07km)\n",
      "INFO:root:step: Padua -> Vicenza (30.13km)\n",
      "INFO:root:step: Vicenza -> Verona (44.70km)\n",
      "INFO:root:step: Verona -> Brescia (61.42km)\n",
      "INFO:root:step: Brescia -> Bergamo (46.02km)\n",
      "INFO:root:step: Bergamo -> Monza (33.92km)\n",
      "INFO:root:step: Monza -> Milan (14.51km)\n",
      "INFO:root:step: Milan -> Novara (43.07km)\n",
      "INFO:root:step: Novara -> Turin (84.46km)\n",
      "INFO:root:step: Turin -> Genoa (123.19km)\n",
      "INFO:root:step: Genoa -> Piacenza (92.66km)\n",
      "INFO:root:step: Piacenza -> Parma (57.65km)\n",
      "INFO:root:step: Parma -> Reggio nell'Emilia (26.94km)\n",
      "INFO:root:step: Reggio nell'Emilia -> Modena (23.94km)\n",
      "INFO:root:step: Modena -> Bologna (37.29km)\n",
      "INFO:root:step: Bologna -> Ferrara (43.43km)\n",
      "INFO:root:step: Ferrara -> Ravenna (66.67km)\n",
      "INFO:root:step: Ravenna -> Forlì (26.46km)\n",
      "INFO:root:step: Forlì -> Rimini (46.72km)\n",
      "INFO:root:step: Rimini -> Ancona (90.60km)\n",
      "INFO:root:step: Ancona -> Perugia (105.17km)\n",
      "INFO:root:step: Perugia -> Terni (63.64km)\n",
      "INFO:root:step: Terni -> Rome (76.54km)\n",
      "INFO:root:step: Rome -> Latina (56.84km)\n",
      "INFO:root:step: Latina -> Giugliano in Campania (124.45km)\n",
      "INFO:root:result: Found a path of 46 steps, total length 4730.05km\n"
     ]
    }
   ],
   "source": [
    "# Define the segments as ((city1, city2), distance) nested tuples\n",
    "all_segments = list(combinations(range(len(CITIES)), 2))\n",
    "all_segments = [((i, j), DIST_MATRIX[i, j]) for i, j in all_segments]\n",
    "# Then define the tsp as a list of segments and the union-find data structure\n",
    "uf = nx.utils.UnionFind()\n",
    "tsp = list()\n",
    "cities_degrees = [0] * len(CITIES) # Degree as in how many connections/segments\n",
    "\n",
    "all_segments_empty = False\n",
    "while not all_segments_empty:\n",
    "    # Extract (i.e. also remove) the shortest segment\n",
    "    shortest_seg = min(all_segments, key=lambda x: x[1])\n",
    "    all_segments.remove(shortest_seg)\n",
    "    shortest_seg = shortest_seg[0]  # Remove the distance from the tuple\n",
    "\n",
    "    # Check if the two cities are already connected AND if the vertices are peripheral\n",
    "    different_sets = uf[shortest_seg[0]] != uf[shortest_seg[1]]\n",
    "    peripheral_vertices = cities_degrees[shortest_seg[0]] < 2 and cities_degrees[shortest_seg[1]] < 2\n",
    "    if different_sets and peripheral_vertices:\n",
    "        # Update the uf and the tsp\n",
    "        uf.union(*shortest_seg)         # * is the unpacking operator\n",
    "        tsp.append(shortest_seg)\n",
    "        # Update the degrees of the cities\n",
    "        cities_degrees[shortest_seg[0]] += 1\n",
    "        cities_degrees[shortest_seg[1]] += 1\n",
    "\n",
    "    all_segments_empty = len(all_segments) == 0\n",
    "    \n",
    "# Close the cycle and reorder it \n",
    "tsp = complete_segment_tsp(tsp, cities_degrees)\n",
    "tsp = order_segments(tsp)\n",
    "\n",
    "# Convert the list of segments to a list of cities\n",
    "tsp = tsp_segment_to_series(tsp)\n",
    "print_tsp(tsp)\n",
    "\n",
    "with open(f'{COUNTRY}_tsp_greedy2.pkl', 'wb') as file:\n",
    "    pickle.dump(tsp, file)\n",
    "\n",
    "tsp_greedy_2 = tsp\n"
   ]
  },
  {
   "cell_type": "markdown",
   "metadata": {},
   "source": []
  },
  {
   "cell_type": "markdown",
   "metadata": {},
   "source": [
    "# Evolutionary and Genetic Algorithms  \n",
    "In the following, except for the last implementation which uses the Hypermodern Flow for Genetic Algorithms, all other instances will use the Modern Flow.  "
   ]
  },
  {
   "cell_type": "markdown",
   "metadata": {},
   "source": [
    "#### Mutations Helper"
   ]
  },
  {
   "cell_type": "code",
   "execution_count": 355,
   "metadata": {},
   "outputs": [],
   "source": [
    "def swap_mutation(individual):\n",
    "    idx1, idx2 = random.sample(range(len(individual)), 2)\n",
    "    individual[idx1], individual[idx2] = individual[idx2], individual[idx1]\n",
    "    return individual\n",
    "\n",
    "def scramble_mutation(individual, strength):\n",
    "    num_elements = int(strength * len(individual))\n",
    "    if num_elements <= 2:\n",
    "        num_elements = 2\n",
    "\n",
    "    indices = random.sample(range(len(individual)), num_elements)\n",
    "    subset = [individual[i] for i in indices]\n",
    "    random.shuffle(subset)\n",
    "    for i, idx in enumerate(indices):\n",
    "        individual[idx] = subset[i]\n",
    "    return individual\n",
    "\n",
    "def insert_mutation(individual):\n",
    "    idx1, idx2 = random.sample(range(len(individual)), 2)\n",
    "    gene = individual.pop(idx1)\n",
    "    individual.insert(idx2, gene)\n",
    "    return individual\n",
    "\n",
    "def inversion_mutation(individual, strength):\n",
    "    num_elements = int(strength * len(individual))\n",
    "    if num_elements <= 2:\n",
    "        num_elements = 2\n",
    "\n",
    "    start_idx = random.randint(0, len(individual) - 1)\n",
    "\n",
    "    # Create a circular buffer and rotate\n",
    "    circular_buffer = deque(individual)\n",
    "    circular_buffer.rotate(-start_idx)\n",
    "\n",
    "    # Invert the selected number of elements\n",
    "    subset = list(circular_buffer)[:num_elements]\n",
    "    subset.reverse()\n",
    "    for i in range(num_elements):\n",
    "        circular_buffer[i] = subset[i]\n",
    "\n",
    "    # Rotate back to the original position and revert to list\n",
    "    circular_buffer.rotate(start_idx)\n",
    "    individual[:] = list(circular_buffer)\n",
    "\n",
    "    return individual"
   ]
  },
  {
   "cell_type": "markdown",
   "metadata": {},
   "source": [
    "#### Crossover Helper"
   ]
  },
  {
   "cell_type": "code",
   "execution_count": 358,
   "metadata": {},
   "outputs": [],
   "source": [
    "def cycle_crossover(parent1, parent2):\n",
    "    size = len(parent1)\n",
    "    child = [None] * size\n",
    "    cycle_start = 0\n",
    "\n",
    "    # Create one cycle. Save the genes of the cycle from parent 1\n",
    "    complete = False\n",
    "    while not complete:\n",
    "        idx = cycle_start\n",
    "        while True:\n",
    "            # Copy the gene from parent1 to the child, then go on with the cycle exploration\n",
    "            child[idx] = parent1[idx]\n",
    "            idx = parent1.index(parent2[idx])\n",
    "            # logging.debug(f\"{child[idx]}) -> \")\n",
    "            if idx == cycle_start:\n",
    "                complete = True\n",
    "                break\n",
    "    \n",
    "    # Fill in the remaining positions with genes from parent2\n",
    "    for i in range(size):\n",
    "        if child[i] is None:\n",
    "            child[i] = parent2[i]\n",
    "    \n",
    "    return child\n",
    "\n",
    "def inver_over_crossover(parent1, parent2):\n",
    "    \"\"\" This implementation of the inver over refers to the basic version seen in https://www.sciencedirect.com/science/article/pii/S0898122111005530,\n",
    "        but avoids the mutation chance and just mixes the parents, as I implement mutation separately.\"\"\"\n",
    "    idx1 = random.randint(0, len(parent1) - 1)\n",
    "    city_i = parent1[idx1]\n",
    "    idx2 = parent2.index(city_i)\n",
    "    city_j = parent2[idx2 + 1] if idx2 < len(parent2) - 1 else parent2[0]\n",
    "    logging.debug(f\"city_i: {city_i} at position {idx1}, city_j: {city_j} at position {idx2}\")\n",
    "    \n",
    "    # Perform inversion if city_i and city_j are not adjacent\n",
    "    idx2 = parent1.index(city_j)\n",
    "    if abs(idx1 - idx2) > 1:\n",
    "        # Invert the section between the two cities\n",
    "        if idx1 < idx2:\n",
    "            parent1[idx1:idx2+1] = reversed(parent1[idx1:idx2+1])\n",
    "        else:\n",
    "            parent1[idx2:idx1+1] = reversed(parent1[idx2:idx1+1])\n",
    "    \n",
    "    child = parent1\n",
    "    return child"
   ]
  },
  {
   "cell_type": "markdown",
   "metadata": {},
   "source": [
    "## Starting From A Greedy Solution (Single Individual)\n",
    "In the following I will use scramble and inversion as mutations because I feel like others may prove too small of a variation, since we are starting to mutate from just one solution. Inversion may not be enough actually but I'll try.  \n",
    "\n",
    "Inversion doesn't seem to make sense with inner over, as the chances of mantaining adjacency is high with Inversion.  \n",
    "\n",
    "Understanding how the various algorithms work takes enough time to not allow me to explore them all, so I'll stick with Inver Over (because it's the one used in the best tsp solution ever recorded) and Cycle (because I dind't manage to study Partially Mapped Crossover too)."
   ]
  },
  {
   "cell_type": "markdown",
   "metadata": {},
   "source": [
    "### Scramble + Inver Over  "
   ]
  },
  {
   "cell_type": "code",
   "execution_count": null,
   "metadata": {},
   "outputs": [],
   "source": []
  },
  {
   "cell_type": "markdown",
   "metadata": {},
   "source": [
    "### Scramble + Cycle"
   ]
  },
  {
   "cell_type": "code",
   "execution_count": null,
   "metadata": {},
   "outputs": [],
   "source": []
  },
  {
   "cell_type": "markdown",
   "metadata": {},
   "source": [
    "### Inversion + Cycle"
   ]
  },
  {
   "cell_type": "code",
   "execution_count": null,
   "metadata": {},
   "outputs": [],
   "source": []
  },
  {
   "cell_type": "markdown",
   "metadata": {},
   "source": [
    "## Starting From Random Population"
   ]
  },
  {
   "cell_type": "markdown",
   "metadata": {},
   "source": [
    "### Swap + Cycle"
   ]
  },
  {
   "cell_type": "code",
   "execution_count": null,
   "metadata": {},
   "outputs": [],
   "source": []
  },
  {
   "cell_type": "markdown",
   "metadata": {},
   "source": [
    "### Swap + Inver Over"
   ]
  },
  {
   "cell_type": "code",
   "execution_count": null,
   "metadata": {},
   "outputs": [],
   "source": []
  },
  {
   "cell_type": "markdown",
   "metadata": {},
   "source": [
    "### Scramble + Cycle"
   ]
  },
  {
   "cell_type": "code",
   "execution_count": null,
   "metadata": {},
   "outputs": [],
   "source": []
  },
  {
   "cell_type": "markdown",
   "metadata": {},
   "source": [
    "### Scramble + Inver Over"
   ]
  },
  {
   "cell_type": "code",
   "execution_count": null,
   "metadata": {},
   "outputs": [],
   "source": []
  },
  {
   "cell_type": "markdown",
   "metadata": {},
   "source": [
    "### Insert + Cycle"
   ]
  },
  {
   "cell_type": "code",
   "execution_count": null,
   "metadata": {},
   "outputs": [],
   "source": []
  },
  {
   "cell_type": "markdown",
   "metadata": {},
   "source": [
    "### Insert + Inver Over"
   ]
  },
  {
   "cell_type": "code",
   "execution_count": null,
   "metadata": {},
   "outputs": [],
   "source": []
  },
  {
   "cell_type": "markdown",
   "metadata": {},
   "source": [
    "### Inversion + Cycle"
   ]
  },
  {
   "cell_type": "code",
   "execution_count": null,
   "metadata": {},
   "outputs": [],
   "source": []
  },
  {
   "cell_type": "markdown",
   "metadata": {},
   "source": [
    "### Inversion + Inver Over"
   ]
  },
  {
   "cell_type": "code",
   "execution_count": null,
   "metadata": {},
   "outputs": [],
   "source": []
  },
  {
   "cell_type": "markdown",
   "metadata": {},
   "source": [
    "## Full Inver Over (Hypermodern?)"
   ]
  },
  {
   "cell_type": "markdown",
   "metadata": {},
   "source": [
    "#### Tests"
   ]
  },
  {
   "cell_type": "code",
   "execution_count": 361,
   "metadata": {},
   "outputs": [
    {
     "name": "stderr",
     "output_type": "stream",
     "text": [
      "INFO:root:tsp1 is                                      [0, 33, 12, 30, 9, 4, 19, 32, 25, 28, 18, 20, 3, 6, 44, 45, 23, 43, 41, 5, 40, 22, 42, 13, 16, 29, 10, 26, 39, 34, 15, 14, 21, 35, 11, 1, 2, 38, 17, 31, 8, 37, 24, 7, 36, 27]\n",
      "INFO:root:tsp2 is                                      [0, 26, 39, 34, 15, 14, 21, 35, 11, 1, 2, 38, 27, 37, 8, 31, 17, 24, 7, 36, 16, 29, 10, 40, 5, 41, 43, 23, 45, 44, 6, 3, 20, 18, 22, 42, 13, 28, 25, 32, 19, 4, 9, 30, 12, 33]\n",
      "DEBUG:root:city_i: 38 at position 37, city_j: 27 at position 11\n",
      "INFO:root:inver_over_crossover(tsp1, tsp2) is          [0, 33, 12, 30, 9, 4, 19, 32, 25, 28, 18, 20, 3, 6, 44, 45, 23, 43, 41, 5, 40, 22, 42, 13, 16, 29, 10, 26, 39, 34, 15, 14, 21, 35, 11, 1, 2, 27, 36, 7, 24, 37, 8, 31, 17, 38]\n",
      "INFO:root:cycle_crossover(tsp1, tsp2) is               [0, 26, 39, 34, 15, 14, 21, 35, 11, 1, 2, 38, 27, 37, 8, 31, 17, 24, 7, 36, 16, 29, 10, 40, 5, 41, 43, 23, 45, 44, 6, 3, 20, 18, 22, 42, 13, 28, 25, 32, 19, 4, 9, 30, 12, 33]\n"
     ]
    }
   ],
   "source": [
    "# Checking if the contents of the pickles are the same as the ones in the previous cells\n",
    "with open(f'{COUNTRY}_tsp_greedy1.pkl', 'rb') as file:\n",
    "    tsp1 = pickle.load(file)\n",
    "assert tsp1 == tsp_greedy_1, f\"pkl for tsp1 isn't the same as when written\"\n",
    "\n",
    "with open(f'{COUNTRY}_tsp_greedy2.pkl', 'rb') as file:\n",
    "    tsp2 = pickle.load(file)\n",
    "assert tsp == tsp_greedy_2, f\"pkl for tsp2 isn't the same as when written\"\n",
    "\n",
    "tsp1 = tsp1[:-1]\n",
    "tsp2 = tsp2[:-1]\n",
    "\n",
    "# rotate the tsp2 to start at the same city as tsp1\n",
    "idx = tsp2.index(tsp1[0])\n",
    "tsp2 = tsp2[idx:] + tsp2[:idx]\n",
    "\n",
    "# logging.info(f\"tsp2 is                      {tsp2}\")\n",
    "# logging.info(f\"inversion_mutation(tsp2) is  {inversion_mutation(tsp2, 0.5)}\")\n",
    "# logging.info(f\"insert_mutation(tsp2) is     {insert_mutation(tsp2)}\")\n",
    "# logging.info(f\"scramble_mutation(tsp2) is   {scramble_mutation(tsp2, 0.5)}\")\n",
    "# logging.info(f\"swap_mutation(tsp2) is       {swap_mutation(tsp2)}\")\n",
    "\n",
    "logging.info(f\"tsp1 is                                      {tsp1}\")\n",
    "logging.info(f\"tsp2 is                                      {tsp2}\")\n",
    "logging.info(f\"inver_over_crossover(tsp1, tsp2) is          {inver_over_crossover(tsp1, tsp2)}\")\n",
    "logging.info(f\"cycle_crossover(tsp1, tsp2) is               {cycle_crossover(tsp1, tsp2)}\")"
   ]
  }
 ],
 "metadata": {
  "kernelspec": {
   "display_name": ".venv",
   "language": "python",
   "name": "python3"
  },
  "language_info": {
   "codemirror_mode": {
    "name": "ipython",
    "version": 3
   },
   "file_extension": ".py",
   "mimetype": "text/x-python",
   "name": "python",
   "nbconvert_exporter": "python",
   "pygments_lexer": "ipython3",
   "version": "3.12.6"
  }
 },
 "nbformat": 4,
 "nbformat_minor": 2
}
