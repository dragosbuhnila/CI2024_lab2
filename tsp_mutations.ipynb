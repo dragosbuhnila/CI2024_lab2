{
 "cells": [
  {
   "cell_type": "markdown",
   "metadata": {
    "vscode": {
     "languageId": "plaintext"
    }
   },
   "source": [
    "Copyright **`(c)`** 2024 Giovanni Squillero `<giovanni.squillero@polito.it>`  \n",
    "[`https://github.com/squillero/computational-intelligence`](https://github.com/squillero/computational-intelligence)  \n",
    "Free under certain conditions — see the [`license`](https://github.com/squillero/computational-intelligence/blob/master/LICENSE.md) for details.  "
   ]
  },
  {
   "cell_type": "code",
   "execution_count": 2,
   "metadata": {},
   "outputs": [],
   "source": [
    "from itertools import combinations\n",
    "from collections import deque\n",
    "import numpy as np\n",
    "import random\n",
    "from geopy.distance import geodesic\n",
    "import networkx as nx\n",
    "\n",
    "import pandas as pd\n",
    "import logging\n",
    "import pickle\n",
    "import os\n",
    "import matplotlib.pyplot as plt\n",
    "from tqdm import tqdm\n",
    "\n",
    "from typing import Tuple\n",
    "\n",
    "logging.basicConfig(level=logging.DEBUG)"
   ]
  },
  {
   "cell_type": "markdown",
   "metadata": {},
   "source": [
    "# Initialization"
   ]
  },
  {
   "cell_type": "code",
   "execution_count": 3,
   "metadata": {},
   "outputs": [],
   "source": [
    "def init_all_cities() -> Tuple[dict, dict]:\n",
    "    ALL_CITIES = {}\n",
    "    ALL_DIST_MATRIX = {}\n",
    "    countries = []\n",
    "\n",
    "    for country in os.listdir('cities'):\n",
    "        if country.endswith('.csv'):\n",
    "            country = country[:-4]\n",
    "            countries.append(country)\n",
    "\n",
    "    for country in countries:\n",
    "        # Read the CSV file\n",
    "        ALL_CITIES[country] = pd.read_csv(f'cities/{country}.csv', header=None, names = ['name', 'lat', 'lon'])\n",
    "\n",
    "        # Calculate distances between all cities\n",
    "        cur_dist_matrix = np.zeros((len(ALL_CITIES[country]), len(ALL_CITIES[country])))\n",
    "        for c1, c2 in combinations(ALL_CITIES[country].itertuples(), 2):\n",
    "            cur_dist_matrix[c1.Index, c2.Index] = cur_dist_matrix[c2.Index, c1.Index] = geodesic((c1.lat, c1.lon), (c2.lat, c2.lon)).km\n",
    "        ALL_DIST_MATRIX[country] = cur_dist_matrix\n",
    "\n",
    "    return ALL_CITIES, ALL_DIST_MATRIX\n",
    "\n",
    "ALL_CITIES, ALL_DIST_MATRIX = init_all_cities()"
   ]
  },
  {
   "cell_type": "code",
   "execution_count": 9,
   "metadata": {},
   "outputs": [
    {
     "name": "stderr",
     "output_type": "stream",
     "text": [
      "INFO:root:Loaded 8 cities in vanuatu\n"
     ]
    }
   ],
   "source": [
    "def initialize(country: str):\n",
    "    CITIES = ALL_CITIES[country]\n",
    "    DIST_MATRIX = ALL_DIST_MATRIX[country]\n",
    "\n",
    "    return CITIES, DIST_MATRIX\n",
    "\n",
    "COUNTRY = 'vanuatu'\n",
    "CITIES, DIST_MATRIX = initialize(COUNTRY)\n",
    "\n",
    "logging.info(f'Loaded {len(CITIES)} cities in {COUNTRY}')"
   ]
  },
  {
   "cell_type": "markdown",
   "metadata": {},
   "source": [
    "# Helper Functions"
   ]
  },
  {
   "cell_type": "markdown",
   "metadata": {},
   "source": [
    "### General"
   ]
  },
  {
   "cell_type": "code",
   "execution_count": 5,
   "metadata": {},
   "outputs": [],
   "source": [
    "def tsp_cost(tsp: list[int]) -> float:\n",
    "    # Check that the TSP is a cycle and that all cities have been covered\n",
    "    assert tsp[0] == tsp[-1], f\"first city is #{tsp[0]}, last city is #{tsp[-1]}\"\n",
    "    # logging.debug(f\"set(tsp): {set(tsp)}\\nset(range(len(tsp))): {set(range(len(tsp)))}\")\n",
    "    assert set(tsp) == set(range(len(tsp) - 1)), f\"tsp covers {len(tsp)}, should cover {len(tsp) - 1}\"\n",
    "\n",
    "    # Finally, compute the total cost\n",
    "    tot_cost = 0\n",
    "    for c1, c2 in zip(tsp, tsp[1:]):\n",
    "        tot_cost += DIST_MATRIX[c1, c2]\n",
    "\n",
    "    return tot_cost\n",
    "\n",
    "def print_tsp(tsp: list):\n",
    "    first = True\n",
    "    for city in tsp:\n",
    "        if first:\n",
    "            prev_city = city\n",
    "            first = False\n",
    "            continue\n",
    "\n",
    "        logging.info(f\"step: {CITIES.at[prev_city,'name']} -> {CITIES.at[city,'name']} ({DIST_MATRIX[prev_city, city]:.2f}km)\")\n",
    "        prev_city = city\n",
    "\n",
    "    logging.info(f\"result: Found a path of {len(tsp)-1} steps, total length {tsp_cost(tsp):.2f}km\")\n",
    "\n"
   ]
  },
  {
   "cell_type": "markdown",
   "metadata": {},
   "source": [
    "#### Mutations Helper"
   ]
  },
  {
   "cell_type": "code",
   "execution_count": 11,
   "metadata": {},
   "outputs": [],
   "source": [
    "def swap_mutation(individual):\n",
    "    idx1, idx2 = random.sample(range(len(individual)), 2)\n",
    "    individual[idx1], individual[idx2] = individual[idx2], individual[idx1]\n",
    "    return individual\n",
    "\n",
    "def scramble_mutation(individual, strength=0.4):\n",
    "    num_elements = int(strength * len(individual))\n",
    "    if num_elements <= 2:\n",
    "        num_elements = 2\n",
    "\n",
    "    indices = random.sample(range(len(individual)), num_elements)\n",
    "    subset = [individual[i] for i in indices]\n",
    "    random.shuffle(subset)\n",
    "    for i, idx in enumerate(indices):\n",
    "        individual[idx] = subset[i]\n",
    "    return individual\n",
    "\n",
    "def insert_mutation(individual):\n",
    "    idx1, idx2 = random.sample(range(len(individual)), 2)\n",
    "    gene = individual.pop(idx1)\n",
    "    individual.insert(idx2, gene)\n",
    "    return individual\n",
    "\n",
    "def inversion_mutation(individual, strength=0.4):\n",
    "    num_elements = int(strength * len(individual))\n",
    "    if num_elements <= 2:\n",
    "        num_elements = 2\n",
    "\n",
    "    start_idx = random.randint(0, len(individual) - 1)\n",
    "\n",
    "    # Create a circular buffer and rotate\n",
    "    circular_buffer = deque(individual)\n",
    "    circular_buffer.rotate(-start_idx)\n",
    "\n",
    "    # Invert the selected number of elements\n",
    "    subset = list(circular_buffer)[:num_elements]\n",
    "    subset.reverse()\n",
    "    for i in range(num_elements):\n",
    "        circular_buffer[i] = subset[i]\n",
    "\n",
    "    # Rotate back to the original position and revert to list\n",
    "    circular_buffer.rotate(start_idx)\n",
    "    individual[:] = list(circular_buffer)\n",
    "\n",
    "    return individual"
   ]
  },
  {
   "cell_type": "markdown",
   "metadata": {},
   "source": [
    "#### Crossover Helper"
   ]
  },
  {
   "cell_type": "code",
   "execution_count": 7,
   "metadata": {},
   "outputs": [],
   "source": [
    "def cycle_crossover(parent1, parent2):\n",
    "    size = len(parent1)\n",
    "    child = [None] * size\n",
    "    cycle_start = 0\n",
    "\n",
    "    # Create one cycle. Save the genes of the cycle from parent 1\n",
    "    complete = False\n",
    "    while not complete:\n",
    "        idx = cycle_start\n",
    "        while True:\n",
    "            # Copy the gene from parent1 to the child, then go on with the cycle exploration\n",
    "            child[idx] = parent1[idx]\n",
    "            idx = parent1.index(parent2[idx])\n",
    "            # logging.debug(f\"{child[idx]}) -> \")\n",
    "            if idx == cycle_start:\n",
    "                complete = True\n",
    "                break\n",
    "    \n",
    "    # Fill in the remaining positions with genes from parent2\n",
    "    for i in range(size):\n",
    "        if child[i] is None:\n",
    "            child[i] = parent2[i]\n",
    "    \n",
    "    return child\n",
    "\n",
    "def inver_over_crossover(parent1, parent2):\n",
    "    \"\"\" This implementation of the inver over refers to the basic version seen in https://www.sciencedirect.com/science/article/pii/S0898122111005530,\n",
    "        but avoids the mutation chance and just mixes the parents, as I implement mutation separately.\"\"\"\n",
    "    idx1 = random.randint(0, len(parent1) - 1)\n",
    "    city_i = parent1[idx1]\n",
    "    idx2 = parent2.index(city_i)\n",
    "    city_j = parent2[idx2 + 1] if idx2 < len(parent2) - 1 else parent2[0]\n",
    "    logging.debug(f\"city_i: {city_i} at position {idx1}, city_j: {city_j} at position {idx2}\")\n",
    "    \n",
    "    # Perform inversion if city_i and city_j are not adjacent\n",
    "    idx2 = parent1.index(city_j)\n",
    "    if abs(idx1 - idx2) > 1:\n",
    "        # Invert the section between the two cities\n",
    "        if idx1 < idx2:\n",
    "            parent1[idx1:idx2+1] = reversed(parent1[idx1:idx2+1])\n",
    "        else:\n",
    "            parent1[idx2:idx1+1] = reversed(parent1[idx2:idx1+1])\n",
    "    \n",
    "    child = parent1\n",
    "    return child"
   ]
  },
  {
   "cell_type": "markdown",
   "metadata": {},
   "source": [
    "# Evolutionary and Genetic Algorithms  \n",
    "In the following all implementations will use Modern Flow for Genetic Algorithms, except for the last one which uses the Hypermodern Flow.  "
   ]
  },
  {
   "cell_type": "markdown",
   "metadata": {},
   "source": [
    "## Starting From A Greedy Solution (Single Individual)\n",
    "The following solutions will start from a population derived from somewhat wide mutations of Greedy Solution #2.\n",
    "\n",
    "In the following I will use scramble and inversion as mutations because I feel like others may prove too small of a variation, since we are starting to mutate from just one solution. Inversion may not be enough actually but I'll try.  \n",
    "\n",
    "Inversion doesn't seem to make sense with inner over, as the chances of mantaining adjacency is high with Inversion.  \n",
    "\n",
    "Understanding how the various algorithms work takes enough time to not allow me to explore them all, so I'll stick with Inver Over (because it's the one used in the best tsp solution ever recorded) and Cycle (because I dind't manage to study Partially Mapped Crossover too)."
   ]
  },
  {
   "cell_type": "markdown",
   "metadata": {},
   "source": [
    "#### Create the population"
   ]
  },
  {
   "cell_type": "code",
   "execution_count": 21,
   "metadata": {},
   "outputs": [
    {
     "name": "stderr",
     "output_type": "stream",
     "text": [
      "INFO:root:Generated initial population of 1000 individuals\n"
     ]
    }
   ],
   "source": [
    "starting_mutations_composition = {swap_mutation: 0.1,\n",
    "                                  scramble_mutation: 0.3,\n",
    "                                  inversion_mutation: 0.3,\n",
    "                                  insert_mutation: 0.3}\n",
    "\n",
    "with open(f'./pickles/{COUNTRY}_tsp_greedy2.pkl', 'rb') as file:\n",
    "    tsp = pickle.load(file)\n",
    "\n",
    "population = [tsp]\n",
    "population_size = 1000\n",
    "\n",
    "for mutation, strength in starting_mutations_composition.items():\n",
    "    for _ in range(int(population_size * strength)):\n",
    "        individual = tsp.copy()\n",
    "        individual = mutation(individual)\n",
    "        population.append(individual)\n",
    "population = population[:population_size]\n",
    "\n",
    "logging.info(f\"Generated initial population of {len(population)} individuals\")\n",
    "# logging.info(f\"Initial population:\")\n",
    "# for i, individual in enumerate(population):\n",
    "#     logging.debug(f\"{i:5d}) {individual}\")\n"
   ]
  },
  {
   "cell_type": "markdown",
   "metadata": {},
   "source": [
    "### Scramble + Inver Over  "
   ]
  },
  {
   "cell_type": "code",
   "execution_count": null,
   "metadata": {},
   "outputs": [],
   "source": []
  },
  {
   "cell_type": "markdown",
   "metadata": {},
   "source": [
    "### Scramble + Cycle"
   ]
  },
  {
   "cell_type": "code",
   "execution_count": null,
   "metadata": {},
   "outputs": [],
   "source": []
  },
  {
   "cell_type": "markdown",
   "metadata": {},
   "source": [
    "### Inversion + Cycle"
   ]
  },
  {
   "cell_type": "code",
   "execution_count": null,
   "metadata": {},
   "outputs": [],
   "source": []
  },
  {
   "cell_type": "markdown",
   "metadata": {},
   "source": [
    "## Starting From Random Population"
   ]
  },
  {
   "cell_type": "markdown",
   "metadata": {},
   "source": [
    "### Swap + Cycle"
   ]
  },
  {
   "cell_type": "code",
   "execution_count": null,
   "metadata": {},
   "outputs": [],
   "source": []
  },
  {
   "cell_type": "markdown",
   "metadata": {},
   "source": [
    "### Swap + Inver Over"
   ]
  },
  {
   "cell_type": "code",
   "execution_count": null,
   "metadata": {},
   "outputs": [],
   "source": []
  },
  {
   "cell_type": "markdown",
   "metadata": {},
   "source": [
    "### Scramble + Cycle"
   ]
  },
  {
   "cell_type": "code",
   "execution_count": null,
   "metadata": {},
   "outputs": [],
   "source": []
  },
  {
   "cell_type": "markdown",
   "metadata": {},
   "source": [
    "### Scramble + Inver Over"
   ]
  },
  {
   "cell_type": "code",
   "execution_count": null,
   "metadata": {},
   "outputs": [],
   "source": []
  },
  {
   "cell_type": "markdown",
   "metadata": {},
   "source": [
    "### Insert + Cycle"
   ]
  },
  {
   "cell_type": "code",
   "execution_count": null,
   "metadata": {},
   "outputs": [],
   "source": []
  },
  {
   "cell_type": "markdown",
   "metadata": {},
   "source": [
    "### Insert + Inver Over"
   ]
  },
  {
   "cell_type": "code",
   "execution_count": null,
   "metadata": {},
   "outputs": [],
   "source": []
  },
  {
   "cell_type": "markdown",
   "metadata": {},
   "source": [
    "### Inversion + Cycle"
   ]
  },
  {
   "cell_type": "code",
   "execution_count": null,
   "metadata": {},
   "outputs": [],
   "source": []
  },
  {
   "cell_type": "markdown",
   "metadata": {},
   "source": [
    "### Inversion + Inver Over"
   ]
  },
  {
   "cell_type": "code",
   "execution_count": null,
   "metadata": {},
   "outputs": [],
   "source": []
  },
  {
   "cell_type": "markdown",
   "metadata": {},
   "source": [
    "## Full Inver Over (Hypermodern?)"
   ]
  },
  {
   "cell_type": "markdown",
   "metadata": {},
   "source": [
    "#### Tests"
   ]
  },
  {
   "cell_type": "code",
   "execution_count": null,
   "metadata": {},
   "outputs": [
    {
     "name": "stderr",
     "output_type": "stream",
     "text": [
      "DEBUG:root:cost1: 1475.528091104531, cost2: 1475.5280911045313\n"
     ]
    }
   ],
   "source": [
    "# Checking if the contents of the pickles are the same as the ones in the previous cells\n",
    "with open(f'./pickles/{COUNTRY}_tsp_greedy1.pkl', 'rb') as file:\n",
    "    tsp1 = pickle.load(file)\n",
    "# assert tsp1 == tsp_greedy_1, f\"pkl for tsp1 isn't the same as when written\"\n",
    "\n",
    "with open(f'./pickles/{COUNTRY}_tsp_greedy2.pkl', 'rb') as file:\n",
    "    tsp2 = pickle.load(file)\n",
    "# assert tsp == tsp_greedy_2, f\"pkl for tsp2 isn't the same as when written\"\n",
    "\n",
    "# Calculate costs\n",
    "logging.debug(f\"cost1: {tsp_cost(tsp1)}, cost2: {tsp_cost(tsp2)}\")\n",
    "\n",
    "tsp1 = tsp1[:-1]\n",
    "tsp2 = tsp2[:-1]\n",
    "\n",
    "# rotate the tsp2 to start at the same city as tsp1\n",
    "idx = tsp2.index(tsp1[0])\n",
    "tsp2 = tsp2[idx:] + tsp2[:idx]\n",
    "\n",
    "# logging.info(f\"tsp2 is                      {tsp2}\")\n",
    "# logging.info(f\"inversion_mutation(tsp2) is  {inversion_mutation(tsp2, 0.5)}\")\n",
    "# logging.info(f\"insert_mutation(tsp2) is     {insert_mutation(tsp2)}\")\n",
    "# logging.info(f\"scramble_mutation(tsp2) is   {scramble_mutation(tsp2, 0.5)}\")\n",
    "# logging.info(f\"swap_mutation(tsp2) is       {swap_mutation(tsp2)}\")\n",
    "\n",
    "# logging.info(f\"tsp1 is                                      {tsp1}\")\n",
    "# logging.info(f\"tsp2 is                                      {tsp2}\")\n",
    "# logging.info(f\"inver_over_crossover(tsp1, tsp2) is          {inver_over_crossover(tsp1, tsp2)}\")\n",
    "# logging.info(f\"cycle_crossover(tsp1, tsp2) is               {cycle_crossover(tsp1, tsp2)}\")"
   ]
  }
 ],
 "metadata": {
  "kernelspec": {
   "display_name": ".venv",
   "language": "python",
   "name": "python3"
  },
  "language_info": {
   "codemirror_mode": {
    "name": "ipython",
    "version": 3
   },
   "file_extension": ".py",
   "mimetype": "text/x-python",
   "name": "python",
   "nbconvert_exporter": "python",
   "pygments_lexer": "ipython3",
   "version": "3.12.6"
  }
 },
 "nbformat": 4,
 "nbformat_minor": 2
}
