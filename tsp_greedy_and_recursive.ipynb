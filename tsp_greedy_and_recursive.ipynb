{
 "cells": [
  {
   "cell_type": "markdown",
   "metadata": {
    "vscode": {
     "languageId": "plaintext"
    }
   },
   "source": [
    "Copyright **`(c)`** 2024 Giovanni Squillero `<giovanni.squillero@polito.it>`  \n",
    "[`https://github.com/squillero/computational-intelligence`](https://github.com/squillero/computational-intelligence)  \n",
    "Free under certain conditions — see the [`license`](https://github.com/squillero/computational-intelligence/blob/master/LICENSE.md) for details.  "
   ]
  },
  {
   "cell_type": "markdown",
   "metadata": {},
   "source": [
    "# Credits"
   ]
  },
  {
   "cell_type": "markdown",
   "metadata": {},
   "source": [
    "The current notebook has been developed by Dragos Buhnila, based on the initial implementation of Professor Squillero.  \n",
    "Apart from the initial configuration, the code was written autonomously, with concepts found on the internet but no code ripped off, and some help from github copilot when browsing would take too much.  "
   ]
  },
  {
   "cell_type": "code",
   "execution_count": 1,
   "metadata": {},
   "outputs": [],
   "source": [
    "from itertools import combinations\n",
    "from collections import deque\n",
    "import numpy as np\n",
    "import random\n",
    "from geopy.distance import geodesic\n",
    "import networkx as nx\n",
    "\n",
    "import pandas as pd\n",
    "import logging\n",
    "import pickle\n",
    "import os\n",
    "import matplotlib.pyplot as plt\n",
    "from tqdm import tqdm\n",
    "import sys\n",
    "\n",
    "from typing import Tuple\n",
    "\n",
    "logging.basicConfig(level=logging.DEBUG)"
   ]
  },
  {
   "cell_type": "markdown",
   "metadata": {},
   "source": [
    "# Initialization"
   ]
  },
  {
   "cell_type": "code",
   "execution_count": 2,
   "metadata": {},
   "outputs": [],
   "source": [
    "def init_all_cities() -> Tuple[dict, dict]:\n",
    "    ALL_CITIES = {}\n",
    "    ALL_DIST_MATRIX = {}\n",
    "    countries = []\n",
    "\n",
    "    for country in os.listdir('cities'):\n",
    "        if country.endswith('.csv'):\n",
    "            country = country[:-4]\n",
    "            countries.append(country)\n",
    "\n",
    "    for country in countries:\n",
    "        # Read the CSV file\n",
    "        ALL_CITIES[country] = pd.read_csv(f'cities/{country}.csv', header=None, names = ['name', 'lat', 'lon'])\n",
    "\n",
    "        # Calculate distances between all cities\n",
    "        cur_dist_matrix = np.zeros((len(ALL_CITIES[country]), len(ALL_CITIES[country])))\n",
    "        for c1, c2 in combinations(ALL_CITIES[country].itertuples(), 2):\n",
    "            cur_dist_matrix[c1.Index, c2.Index] = cur_dist_matrix[c2.Index, c1.Index] = geodesic((c1.lat, c1.lon), (c2.lat, c2.lon)).km\n",
    "        ALL_DIST_MATRIX[country] = cur_dist_matrix\n",
    "\n",
    "    return ALL_CITIES, ALL_DIST_MATRIX\n",
    "\n",
    "ALL_CITIES, ALL_DIST_MATRIX = init_all_cities()"
   ]
  },
  {
   "cell_type": "markdown",
   "metadata": {},
   "source": [
    "# Helper Functions"
   ]
  },
  {
   "cell_type": "markdown",
   "metadata": {},
   "source": [
    "### General"
   ]
  },
  {
   "cell_type": "code",
   "execution_count": 3,
   "metadata": {},
   "outputs": [],
   "source": [
    "def tsp_cost(tsp: list[int]) -> float:\n",
    "    # Check that the TSP is a cycle and that all cities have been covered\n",
    "    assert tsp[0] == tsp[-1], f\"first city is #{tsp[0]}, last city is #{tsp[-1]}\"\n",
    "    # logging.debug(f\"set(tsp): {set(tsp)}\\nset(range(len(tsp))): {set(range(len(tsp)))}\")\n",
    "    assert set(tsp) == set(range(len(tsp) - 1)), f\"tsp covers {len(tsp)}, should cover {len(tsp) - 1}\"\n",
    "\n",
    "    # Finally, compute the total cost\n",
    "    tot_cost = 0\n",
    "    for c1, c2 in zip(tsp, tsp[1:]):\n",
    "        tot_cost += DIST_MATRIX[c1, c2]\n",
    "\n",
    "    return tot_cost\n",
    "\n",
    "def print_tsp(tsp: list):\n",
    "    first = True\n",
    "    for city in tsp:\n",
    "        if first:\n",
    "            prev_city = city\n",
    "            first = False\n",
    "            continue\n",
    "\n",
    "        logging.info(f\"step: {CITIES.at[prev_city,'name']} -> {CITIES.at[city,'name']} ({DIST_MATRIX[prev_city, city]:.2f}km)\")\n",
    "        prev_city = city\n",
    "\n",
    "    logging.info(f\"result: Found a path of {len(tsp)-1} steps, total length {tsp_cost(tsp):.2f}km\")\n",
    "\n"
   ]
  },
  {
   "cell_type": "markdown",
   "metadata": {},
   "source": [
    "### Segments"
   ]
  },
  {
   "cell_type": "code",
   "execution_count": 4,
   "metadata": {},
   "outputs": [],
   "source": [
    "def tsp_segment_to_series(tsp: list[tuple]) -> list[int]:\n",
    "    # Convert the list of segments to a list of cities\n",
    "    tsp_series = [t[0] for t in tsp]\n",
    "    tsp_series.append(tsp[0][0])\n",
    "    return tsp_series\n",
    "\n",
    "\n",
    "# def print_tsp_segments(tsp: list):\n",
    "#     # logging.info(f\"Total cost: {tsp_cost(tsp):.2f}km\")\n",
    "\n",
    "#     for segment in tsp:\n",
    "#         city1, city2 = segment\n",
    "#         logging.info(f\"step: {CITIES.at[city1,'name']} -> {CITIES.at[city2,'name']} ({DIST_MATRIX[city1, city2]:.2f}km)\")\n",
    "\n",
    "\n",
    "def complete_segment_tsp(tsp: list[tuple], degrees: list[int]) -> list[tuple]:\n",
    "    assert len(degrees) == len(CITIES), f\"len(degrees)={len(degrees)} != len(CITIES)={len(CITIES)}\"\n",
    "    assert all (degree > 0 for degree in degrees), f\"degrees={degrees} should be all > 0\"\n",
    "\n",
    "    indices_with_value_1 = [index for index, value in enumerate(degrees) if value == 1]\n",
    "    assert len(indices_with_value_1) == 2, f\"len(indices_with_value_1)={len(indices_with_value_1)} != 2\"\n",
    "    tsp.append((indices_with_value_1[0], indices_with_value_1[1]))\n",
    "\n",
    "    return tsp\n",
    "\n",
    "def order_segments(segments: list[tuple]) -> list[tuple]:\n",
    "    # Create a dictionary to map each node to its connected nodes\n",
    "    connections = {}\n",
    "    for u, v in segments:\n",
    "        if u in connections:\n",
    "            connections[u].append(v)\n",
    "        else:\n",
    "            connections[u] = [v]\n",
    "        if v in connections:\n",
    "            connections[v].append(u)\n",
    "        else:\n",
    "            connections[v] = [u]\n",
    "\n",
    "    # Start with the first segment in the list\n",
    "    ordered_segments = [segments[0]]\n",
    "    current = segments[0][1]\n",
    "\n",
    "    # Reorder the list by following the connections\n",
    "    while len(ordered_segments) < len(segments):\n",
    "        next_city = connections[current].pop()\n",
    "        connections[next_city].remove(current)\n",
    "        next_segment = (current, next_city)\n",
    "        ordered_segments.append(next_segment)\n",
    "        current = next_city\n",
    "\n",
    "    return ordered_segments\n"
   ]
  },
  {
   "cell_type": "markdown",
   "metadata": {},
   "source": [
    "# Lab2 - TSP\n",
    "\n",
    "https://www.wolframcloud.com/obj/giovanni.squillero/Published/Lab2-tsp.nb"
   ]
  },
  {
   "cell_type": "code",
   "execution_count": 12,
   "metadata": {},
   "outputs": [
    {
     "name": "stderr",
     "output_type": "stream",
     "text": [
      "INFO:root:Loaded 46 cities in italy\n"
     ]
    }
   ],
   "source": [
    "def initialize(country: str):\n",
    "    CITIES = ALL_CITIES[country]\n",
    "    DIST_MATRIX = ALL_DIST_MATRIX[country]\n",
    "\n",
    "    return CITIES, DIST_MATRIX\n",
    "\n",
    "COUNTRY = 'italy'\n",
    "CITIES, DIST_MATRIX = initialize(COUNTRY)\n",
    "\n",
    "logging.info(f'Loaded {len(CITIES)} cities in {COUNTRY}')"
   ]
  },
  {
   "cell_type": "markdown",
   "metadata": {},
   "source": [
    "### Recursive Solution - Find Best Possible\n",
    "It's clear that this kind of solution is only viable for small enough instances. (It seems like italy is already too much :( )"
   ]
  },
  {
   "cell_type": "code",
   "execution_count": 13,
   "metadata": {},
   "outputs": [
    {
     "name": "stderr",
     "output_type": "stream",
     "text": [
      "DEBUG:root:step #10000000\n",
      "DEBUG:root:pruned #10000000\n",
      "DEBUG:root:step #20000000\n",
      "DEBUG:root:pruned #20000000\n",
      "DEBUG:root:step #30000000\n",
      "DEBUG:root:step #40000000\n",
      "DEBUG:root:pruned #30000000\n",
      "DEBUG:root:step #50000000\n",
      "DEBUG:root:pruned #40000000\n",
      "DEBUG:root:step #60000000\n",
      "DEBUG:root:pruned #50000000\n",
      "DEBUG:root:step #70000000\n",
      "DEBUG:root:step #80000000\n",
      "DEBUG:root:pruned #60000000\n",
      "DEBUG:root:step #90000000\n",
      "DEBUG:root:pruned #70000000\n",
      "DEBUG:root:step #100000000\n",
      "DEBUG:root:pruned #80000000\n",
      "DEBUG:root:step #110000000\n"
     ]
    },
    {
     "ename": "KeyboardInterrupt",
     "evalue": "",
     "output_type": "error",
     "traceback": [
      "\u001b[1;31m---------------------------------------------------------------------------\u001b[0m",
      "\u001b[1;31mKeyboardInterrupt\u001b[0m                         Traceback (most recent call last)",
      "Cell \u001b[1;32mIn[13], line 46\u001b[0m\n\u001b[0;32m     43\u001b[0m visited[start_city] \u001b[38;5;241m=\u001b[39m \u001b[38;5;28;01mTrue\u001b[39;00m\n\u001b[0;32m     44\u001b[0m path \u001b[38;5;241m=\u001b[39m [start_city]\n\u001b[1;32m---> 46\u001b[0m \u001b[43mtsp_recursive\u001b[49m\u001b[43m(\u001b[49m\u001b[43mstart_city\u001b[49m\u001b[43m,\u001b[49m\u001b[43m \u001b[49m\u001b[43mvisited\u001b[49m\u001b[43m,\u001b[49m\u001b[43m \u001b[49m\u001b[43mpath\u001b[49m\u001b[43m,\u001b[49m\u001b[43m \u001b[49m\u001b[38;5;241;43m0\u001b[39;49m\u001b[43m)\u001b[49m\n\u001b[0;32m     48\u001b[0m logging\u001b[38;5;241m.\u001b[39minfo(\u001b[38;5;124mf\u001b[39m\u001b[38;5;124m\"\u001b[39m\u001b[38;5;124mBest path found with length \u001b[39m\u001b[38;5;132;01m{\u001b[39;00mbest_cost\u001b[38;5;132;01m:\u001b[39;00m\u001b[38;5;124m.2f\u001b[39m\u001b[38;5;132;01m}\u001b[39;00m\u001b[38;5;124m km\u001b[39m\u001b[38;5;124m\"\u001b[39m)\n\u001b[0;32m     49\u001b[0m logging\u001b[38;5;241m.\u001b[39minfo(\u001b[38;5;124mf\u001b[39m\u001b[38;5;124m\"\u001b[39m\u001b[38;5;124mPath is: \u001b[39m\u001b[38;5;132;01m{\u001b[39;00mbest_path\u001b[38;5;132;01m}\u001b[39;00m\u001b[38;5;124m\"\u001b[39m)\n",
      "Cell \u001b[1;32mIn[13], line 36\u001b[0m, in \u001b[0;36mtsp_recursive\u001b[1;34m(current_city, visited, path, current_cost)\u001b[0m\n\u001b[0;32m     34\u001b[0m visited[next_city] \u001b[38;5;241m=\u001b[39m \u001b[38;5;28;01mTrue\u001b[39;00m\n\u001b[0;32m     35\u001b[0m path\u001b[38;5;241m.\u001b[39mappend(next_city)\n\u001b[1;32m---> 36\u001b[0m \u001b[43mtsp_recursive\u001b[49m\u001b[43m(\u001b[49m\u001b[43mnext_city\u001b[49m\u001b[43m,\u001b[49m\u001b[43m \u001b[49m\u001b[43mvisited\u001b[49m\u001b[43m,\u001b[49m\u001b[43m \u001b[49m\u001b[43mpath\u001b[49m\u001b[43m,\u001b[49m\u001b[43m \u001b[49m\u001b[43mcurrent_cost\u001b[49m\u001b[43m \u001b[49m\u001b[38;5;241;43m+\u001b[39;49m\u001b[43m \u001b[49m\u001b[43mDIST_MATRIX\u001b[49m\u001b[43m[\u001b[49m\u001b[43mcurrent_city\u001b[49m\u001b[43m]\u001b[49m\u001b[43m[\u001b[49m\u001b[43mnext_city\u001b[49m\u001b[43m]\u001b[49m\u001b[43m)\u001b[49m\n\u001b[0;32m     37\u001b[0m visited[next_city] \u001b[38;5;241m=\u001b[39m \u001b[38;5;28;01mFalse\u001b[39;00m\n\u001b[0;32m     38\u001b[0m path\u001b[38;5;241m.\u001b[39mpop()\n",
      "Cell \u001b[1;32mIn[13], line 36\u001b[0m, in \u001b[0;36mtsp_recursive\u001b[1;34m(current_city, visited, path, current_cost)\u001b[0m\n\u001b[0;32m     34\u001b[0m visited[next_city] \u001b[38;5;241m=\u001b[39m \u001b[38;5;28;01mTrue\u001b[39;00m\n\u001b[0;32m     35\u001b[0m path\u001b[38;5;241m.\u001b[39mappend(next_city)\n\u001b[1;32m---> 36\u001b[0m \u001b[43mtsp_recursive\u001b[49m\u001b[43m(\u001b[49m\u001b[43mnext_city\u001b[49m\u001b[43m,\u001b[49m\u001b[43m \u001b[49m\u001b[43mvisited\u001b[49m\u001b[43m,\u001b[49m\u001b[43m \u001b[49m\u001b[43mpath\u001b[49m\u001b[43m,\u001b[49m\u001b[43m \u001b[49m\u001b[43mcurrent_cost\u001b[49m\u001b[43m \u001b[49m\u001b[38;5;241;43m+\u001b[39;49m\u001b[43m \u001b[49m\u001b[43mDIST_MATRIX\u001b[49m\u001b[43m[\u001b[49m\u001b[43mcurrent_city\u001b[49m\u001b[43m]\u001b[49m\u001b[43m[\u001b[49m\u001b[43mnext_city\u001b[49m\u001b[43m]\u001b[49m\u001b[43m)\u001b[49m\n\u001b[0;32m     37\u001b[0m visited[next_city] \u001b[38;5;241m=\u001b[39m \u001b[38;5;28;01mFalse\u001b[39;00m\n\u001b[0;32m     38\u001b[0m path\u001b[38;5;241m.\u001b[39mpop()\n",
      "    \u001b[1;31m[... skipping similar frames: tsp_recursive at line 36 (40 times)]\u001b[0m\n",
      "Cell \u001b[1;32mIn[13], line 36\u001b[0m, in \u001b[0;36mtsp_recursive\u001b[1;34m(current_city, visited, path, current_cost)\u001b[0m\n\u001b[0;32m     34\u001b[0m visited[next_city] \u001b[38;5;241m=\u001b[39m \u001b[38;5;28;01mTrue\u001b[39;00m\n\u001b[0;32m     35\u001b[0m path\u001b[38;5;241m.\u001b[39mappend(next_city)\n\u001b[1;32m---> 36\u001b[0m \u001b[43mtsp_recursive\u001b[49m\u001b[43m(\u001b[49m\u001b[43mnext_city\u001b[49m\u001b[43m,\u001b[49m\u001b[43m \u001b[49m\u001b[43mvisited\u001b[49m\u001b[43m,\u001b[49m\u001b[43m \u001b[49m\u001b[43mpath\u001b[49m\u001b[43m,\u001b[49m\u001b[43m \u001b[49m\u001b[43mcurrent_cost\u001b[49m\u001b[43m \u001b[49m\u001b[38;5;241;43m+\u001b[39;49m\u001b[43m \u001b[49m\u001b[43mDIST_MATRIX\u001b[49m\u001b[43m[\u001b[49m\u001b[43mcurrent_city\u001b[49m\u001b[43m]\u001b[49m\u001b[43m[\u001b[49m\u001b[43mnext_city\u001b[49m\u001b[43m]\u001b[49m\u001b[43m)\u001b[49m\n\u001b[0;32m     37\u001b[0m visited[next_city] \u001b[38;5;241m=\u001b[39m \u001b[38;5;28;01mFalse\u001b[39;00m\n\u001b[0;32m     38\u001b[0m path\u001b[38;5;241m.\u001b[39mpop()\n",
      "Cell \u001b[1;32mIn[13], line 38\u001b[0m, in \u001b[0;36mtsp_recursive\u001b[1;34m(current_city, visited, path, current_cost)\u001b[0m\n\u001b[0;32m     36\u001b[0m tsp_recursive(next_city, visited, path, current_cost \u001b[38;5;241m+\u001b[39m DIST_MATRIX[current_city][next_city])\n\u001b[0;32m     37\u001b[0m visited[next_city] \u001b[38;5;241m=\u001b[39m \u001b[38;5;28;01mFalse\u001b[39;00m\n\u001b[1;32m---> 38\u001b[0m path\u001b[38;5;241m.\u001b[39mpop()\n",
      "\u001b[1;31mKeyboardInterrupt\u001b[0m: "
     ]
    }
   ],
   "source": [
    "# Increase recursion limit if necessary\n",
    "sys.setrecursionlimit(10000)\n",
    "\n",
    "# Initialize globals\n",
    "n_cities = len(CITIES)\n",
    "best_path = None\n",
    "best_cost = np.inf\n",
    "steps = 0\n",
    "pruned = 0\n",
    "\n",
    "def tsp_recursive(current_city, visited, path, current_cost):\n",
    "    global best_cost, best_path, steps, pruned\n",
    "    steps += 1\n",
    "    if steps % 10000000 == 0:\n",
    "        logging.debug(f\"step #{steps}\")\n",
    "    if len(path) == n_cities:\n",
    "        # Complete the tour by returning to the starting city\n",
    "        total_cost = current_cost + DIST_MATRIX[current_city][path[0]]\n",
    "        if total_cost < best_cost:\n",
    "            best_cost = total_cost\n",
    "            best_path = path.copy() + [path[0]]\n",
    "        return\n",
    "    \n",
    "    # Prune paths that exceed the current best cost\n",
    "    if current_cost >= best_cost:\n",
    "        pruned += 1\n",
    "        if pruned % 10000000 == 0:\n",
    "            logging.debug(f\"pruned #{pruned}\")\n",
    "        return\n",
    "    \n",
    "\n",
    "    for next_city in range(n_cities):\n",
    "        if not visited[next_city]:\n",
    "            visited[next_city] = True\n",
    "            path.append(next_city)\n",
    "            tsp_recursive(next_city, visited, path, current_cost + DIST_MATRIX[current_city][next_city])\n",
    "            visited[next_city] = False\n",
    "            path.pop()\n",
    "\n",
    "# Initialize variables\n",
    "visited = [False] * n_cities\n",
    "start_city = 0\n",
    "visited[start_city] = True\n",
    "path = [start_city]\n",
    "\n",
    "tsp_recursive(start_city, visited, path, 0)\n",
    "\n",
    "logging.info(f\"Best path found with length {best_cost:.2f} km\")\n",
    "logging.info(f\"Path is: {best_path}\")\n",
    "\n",
    "# Save the best tour\n",
    "tsp_optimal = best_path\n",
    "with open(f'./tsp_pickles/{COUNTRY}_tsp_recursive.pkl', 'wb') as file:\n",
    "    pickle.dump(tsp_optimal, file)\n",
    "\n",
    "print_tsp(tsp_optimal)"
   ]
  },
  {
   "cell_type": "markdown",
   "metadata": {},
   "source": [
    "### Greedy Solution 1 - Closest Cities Trasversal\n",
    "The first greedy solution is able to find performance that is almost on par with that of the second one (Shortest Segment) by using an incredibly small fraction of the second's computing time (e.g. 1.2s vs 10m for the China instance)"
   ]
  },
  {
   "cell_type": "code",
   "execution_count": null,
   "metadata": {},
   "outputs": [
    {
     "name": "stderr",
     "output_type": "stream",
     "text": [
      "DEBUG:root:step: Ancona -> Rimini (90.60km)\n",
      "DEBUG:root:step: Rimini -> Forlì (46.72km)\n",
      "DEBUG:root:step: Forlì -> Ravenna (26.46km)\n",
      "DEBUG:root:step: Ravenna -> Ferrara (66.67km)\n",
      "DEBUG:root:step: Ferrara -> Bologna (43.43km)\n",
      "DEBUG:root:step: Bologna -> Modena (37.29km)\n",
      "DEBUG:root:step: Modena -> Reggio nell'Emilia (23.94km)\n"
     ]
    },
    {
     "name": "stderr",
     "output_type": "stream",
     "text": [
      "DEBUG:root:step: Reggio nell'Emilia -> Parma (26.94km)\n",
      "DEBUG:root:step: Parma -> Piacenza (57.65km)\n",
      "DEBUG:root:step: Piacenza -> Milan (60.65km)\n",
      "DEBUG:root:step: Milan -> Monza (14.51km)\n",
      "DEBUG:root:step: Monza -> Bergamo (33.92km)\n",
      "DEBUG:root:step: Bergamo -> Brescia (46.02km)\n",
      "DEBUG:root:step: Brescia -> Verona (61.42km)\n",
      "DEBUG:root:step: Verona -> Vicenza (44.70km)\n",
      "DEBUG:root:step: Vicenza -> Padua (30.13km)\n",
      "DEBUG:root:step: Padua -> Venice (36.07km)\n",
      "DEBUG:root:step: Venice -> Trieste (115.09km)\n",
      "DEBUG:root:step: Trieste -> Bolzano (209.68km)\n",
      "DEBUG:root:step: Bolzano -> Trento (49.94km)\n",
      "DEBUG:root:step: Trento -> Novara (206.69km)\n",
      "DEBUG:root:step: Novara -> Turin (84.46km)\n",
      "DEBUG:root:step: Turin -> Genoa (123.19km)\n",
      "DEBUG:root:step: Genoa -> Leghorn (146.37km)\n",
      "DEBUG:root:step: Leghorn -> Prato (74.02km)\n",
      "DEBUG:root:step: Prato -> Florence (17.17km)\n",
      "DEBUG:root:step: Florence -> Perugia (119.19km)\n",
      "DEBUG:root:step: Perugia -> Terni (63.64km)\n",
      "DEBUG:root:step: Terni -> Rome (76.54km)\n",
      "DEBUG:root:step: Rome -> Latina (56.84km)\n",
      "DEBUG:root:step: Latina -> Giugliano in Campania (124.45km)\n",
      "DEBUG:root:step: Giugliano in Campania -> Naples (11.15km)\n",
      "DEBUG:root:step: Naples -> Salerno (46.25km)\n",
      "DEBUG:root:step: Salerno -> Foggia (109.52km)\n",
      "DEBUG:root:step: Foggia -> Andria (67.42km)\n",
      "DEBUG:root:step: Andria -> Bari (50.18km)\n",
      "DEBUG:root:step: Bari -> Taranto (77.63km)\n",
      "DEBUG:root:step: Taranto -> Messina (293.02km)\n",
      "DEBUG:root:step: Messina -> Reggio di Calabria (12.48km)\n",
      "DEBUG:root:step: Reggio di Calabria -> Catania (84.28km)\n",
      "DEBUG:root:step: Catania -> Syracuse (51.23km)\n",
      "DEBUG:root:step: Syracuse -> Palermo (206.47km)\n",
      "DEBUG:root:step: Palermo -> Cagliari (390.28km)\n",
      "DEBUG:root:step: Cagliari -> Sassari (173.89km)\n",
      "DEBUG:root:step: Sassari -> Pescara (508.61km)\n",
      "DEBUG:root:step: Pescara -> Ancona (139.24km)\n",
      "INFO:root:result: Found a path of 46 steps, total length 4436.03km\n"
     ]
    }
   ],
   "source": [
    "visited = np.full(len(CITIES), False)\n",
    "dist = DIST_MATRIX.copy()\n",
    "city = 0\n",
    "visited[city] = True\n",
    "\n",
    "tsp = list()\n",
    "tsp.append(int(city))\n",
    "\n",
    "while not np.all(visited):\n",
    "    dist[:, city] = np.inf\n",
    "    closest = np.argmin(dist[city])\n",
    "    logging.debug(f\"step: {CITIES.at[city,'name']} -> {CITIES.at[closest,'name']} ({DIST_MATRIX[city,closest]:.2f}km)\")\n",
    "    \n",
    "    visited[closest] = True\n",
    "    city = closest\n",
    "    tsp.append(int(city))\n",
    "    \n",
    "logging.debug(f\"step: {CITIES.at[tsp[-1],'name']} -> {CITIES.at[tsp[0],'name']} ({DIST_MATRIX[tsp[-1],tsp[0]]:.2f}km)\")\n",
    "tsp.append(tsp[0])\n",
    "\n",
    "tot_cost = tsp_cost(tsp)\n",
    "logging.info(f\"result: Found a path of {len(tsp)-1} steps, total length {tot_cost:.2f}km\")\n",
    "\n",
    "with open(f'./tsp_pickles/{COUNTRY}_tsp_greedy1.pkl', 'wb') as file:\n",
    "    pickle.dump(tsp, file)\n",
    "tsp_greedy_1 = tsp"
   ]
  },
  {
   "cell_type": "markdown",
   "metadata": {},
   "source": [
    "### Greedy Solution 2: Shortest Segments"
   ]
  },
  {
   "cell_type": "code",
   "execution_count": null,
   "metadata": {},
   "outputs": [
    {
     "name": "stderr",
     "output_type": "stream",
     "text": [
      "INFO:root:step: Giugliano in Campania -> Naples (11.15km)\n",
      "INFO:root:step: Naples -> Salerno (46.25km)\n",
      "INFO:root:step: Salerno -> Foggia (109.52km)\n",
      "INFO:root:step: Foggia -> Andria (67.42km)\n",
      "INFO:root:step: Andria -> Bari (50.18km)\n",
      "INFO:root:step: Bari -> Taranto (77.63km)\n",
      "INFO:root:step: Taranto -> Pescara (335.25km)\n",
      "INFO:root:step: Pescara -> Syracuse (605.55km)\n",
      "INFO:root:step: Syracuse -> Catania (51.23km)\n",
      "INFO:root:step: Catania -> Reggio di Calabria (84.28km)\n",
      "INFO:root:step: Reggio di Calabria -> Messina (12.48km)\n",
      "INFO:root:step: Messina -> Palermo (192.10km)\n",
      "INFO:root:step: Palermo -> Cagliari (390.28km)\n",
      "INFO:root:step: Cagliari -> Sassari (173.89km)\n",
      "INFO:root:step: Sassari -> Leghorn (344.66km)\n",
      "INFO:root:step: Leghorn -> Prato (74.02km)\n",
      "INFO:root:step: Prato -> Florence (17.17km)\n",
      "INFO:root:step: Florence -> Trento (255.78km)\n",
      "INFO:root:step: Trento -> Bolzano (49.94km)\n",
      "INFO:root:step: Bolzano -> Trieste (209.68km)\n",
      "INFO:root:step: Trieste -> Venice (115.09km)\n",
      "INFO:root:step: Venice -> Padua (36.07km)\n",
      "INFO:root:step: Padua -> Vicenza (30.13km)\n",
      "INFO:root:step: Vicenza -> Verona (44.70km)\n",
      "INFO:root:step: Verona -> Brescia (61.42km)\n",
      "INFO:root:step: Brescia -> Bergamo (46.02km)\n",
      "INFO:root:step: Bergamo -> Monza (33.92km)\n",
      "INFO:root:step: Monza -> Milan (14.51km)\n",
      "INFO:root:step: Milan -> Novara (43.07km)\n",
      "INFO:root:step: Novara -> Turin (84.46km)\n",
      "INFO:root:step: Turin -> Genoa (123.19km)\n",
      "INFO:root:step: Genoa -> Piacenza (92.66km)\n",
      "INFO:root:step: Piacenza -> Parma (57.65km)\n",
      "INFO:root:step: Parma -> Reggio nell'Emilia (26.94km)\n",
      "INFO:root:step: Reggio nell'Emilia -> Modena (23.94km)\n",
      "INFO:root:step: Modena -> Bologna (37.29km)\n",
      "INFO:root:step: Bologna -> Ferrara (43.43km)\n",
      "INFO:root:step: Ferrara -> Ravenna (66.67km)\n",
      "INFO:root:step: Ravenna -> Forlì (26.46km)\n",
      "INFO:root:step: Forlì -> Rimini (46.72km)\n",
      "INFO:root:step: Rimini -> Ancona (90.60km)\n",
      "INFO:root:step: Ancona -> Perugia (105.17km)\n",
      "INFO:root:step: Perugia -> Terni (63.64km)\n",
      "INFO:root:step: Terni -> Rome (76.54km)\n",
      "INFO:root:step: Rome -> Latina (56.84km)\n",
      "INFO:root:step: Latina -> Giugliano in Campania (124.45km)\n",
      "INFO:root:result: Found a path of 46 steps, total length 4730.05km\n"
     ]
    }
   ],
   "source": [
    "# Define the segments as ((city1, city2), distance) nested tuples\n",
    "all_segments = list(combinations(range(len(CITIES)), 2))\n",
    "all_segments = [((i, j), DIST_MATRIX[i, j]) for i, j in all_segments]\n",
    "# Then define the tsp as a list of segments and the union-find data structure\n",
    "uf = nx.utils.UnionFind()\n",
    "tsp = list()\n",
    "cities_degrees = [0] * len(CITIES) # Degree as in how many connections/segments\n",
    "\n",
    "all_segments_empty = False\n",
    "while not all_segments_empty:\n",
    "    # Extract (i.e. also remove) the shortest segment\n",
    "    shortest_seg = min(all_segments, key=lambda x: x[1])\n",
    "    all_segments.remove(shortest_seg)\n",
    "    shortest_seg = shortest_seg[0]  # Remove the distance from the tuple\n",
    "\n",
    "    # Check if the two cities are already connected AND if the vertices are peripheral\n",
    "    different_sets = uf[shortest_seg[0]] != uf[shortest_seg[1]]\n",
    "    peripheral_vertices = cities_degrees[shortest_seg[0]] < 2 and cities_degrees[shortest_seg[1]] < 2\n",
    "    if different_sets and peripheral_vertices:\n",
    "        # Update the uf and the tsp\n",
    "        uf.union(*shortest_seg)         # * is the unpacking operator\n",
    "        tsp.append(shortest_seg)\n",
    "        # Update the degrees of the cities\n",
    "        cities_degrees[shortest_seg[0]] += 1\n",
    "        cities_degrees[shortest_seg[1]] += 1\n",
    "\n",
    "    all_segments_empty = len(all_segments) == 0\n",
    "    \n",
    "# Close the cycle and reorder it \n",
    "tsp = complete_segment_tsp(tsp, cities_degrees)\n",
    "tsp = order_segments(tsp)\n",
    "\n",
    "# Convert the list of segments to a list of cities\n",
    "tsp = tsp_segment_to_series(tsp)\n",
    "print_tsp(tsp)\n",
    "\n",
    "with open(f'./tsp_pickles/{COUNTRY}_tsp_greedy2.pkl', 'wb') as file:\n",
    "    pickle.dump(tsp, file)\n",
    "\n",
    "tsp_greedy_2 = tsp\n"
   ]
  },
  {
   "cell_type": "markdown",
   "metadata": {},
   "source": [
    "# Comparison"
   ]
  },
  {
   "cell_type": "code",
   "execution_count": null,
   "metadata": {},
   "outputs": [
    {
     "name": "stderr",
     "output_type": "stream",
     "text": [
      "Processing TSP files:   0%|          | 0/10 [00:00<?, ?it/s]"
     ]
    },
    {
     "name": "stderr",
     "output_type": "stream",
     "text": [
      "Processing TSP files: 100%|██████████| 10/10 [00:00<00:00, 165.64it/s]\n"
     ]
    },
    {
     "data": {
      "image/png": "[encoded data removed]",
      "text/plain": [
       "<Figure size 1200x800 with 1 Axes>"
      ]
     },
     "metadata": {},
     "output_type": "display_data"
    }
   ],
   "source": [
    "def load_all_pkl_files(directory):\n",
    "    # Take only files containing .pkl and greedy\n",
    "    pkl_files = [f for f in os.listdir(directory) if f.endswith('.pkl')]\n",
    "    pkl_files = [f for f in pkl_files if 'greedy' in f]\n",
    "\n",
    "    # Load all the data\n",
    "    data = {}\n",
    "    for pkl_file in pkl_files:\n",
    "        with open(os.path.join(directory, pkl_file), 'rb') as file:\n",
    "            data[pkl_file] = pickle.load(file)\n",
    "    return data\n",
    "\n",
    "\n",
    "directory = './tsp_pickles'\n",
    "all_data = load_all_pkl_files(directory)\n",
    "\n",
    "times = {\"china_tsp_greedy1.pkl\": 1.2,\n",
    "         \"china_tsp_greedy2.pkl\": 6142.5,\n",
    "         \"italy_tsp_greedy1.pkl\": 0.1,\n",
    "         \"italy_tsp_greedy2.pkl\": 0.1,\n",
    "         \"russia_tsp_greedy1.pkl\": 0.2,\n",
    "         \"russia_tsp_greedy2.pkl\": 15.3,\n",
    "         \"us_tsp_greedy1.pkl\": 0.5,\n",
    "         \"us_tsp_greedy2.pkl\": 180.0,\n",
    "         \"vanuatu_tsp_greedy1.pkl\": 0.0,\n",
    "         \"vanuatu_tsp_greedy2.pkl\": 0.0}\n",
    "\n",
    "plt.figure(figsize=(12, 8))\n",
    "\n",
    "# Define the legend patches\n",
    "red_patch = plt.Line2D([0], [0], marker='o', color='w', markerfacecolor='r', markersize=10, label='Greedy1')\n",
    "blue_patch = plt.Line2D([0], [0], marker='o', color='w', markerfacecolor='b', markersize=10, label='Greedy2')\n",
    "\n",
    "# Plot the scatter points\n",
    "for name, tsp in tqdm(all_data.items(), desc=\"Processing TSP files\"):\n",
    "    CITIES, DIST_MATRIX = initialize(name.split('_')[0])\n",
    "\n",
    "    cost = tsp_cost(tsp)\n",
    "    time = times[name]\n",
    "    color = 'r' if 'greedy1' in name else 'b'\n",
    "\n",
    "    plt.scatter(cost, time, color=color)\n",
    "    plt.text(cost, time, name.split('_')[0], fontsize=9)\n",
    "\n",
    "# Add the legend patches\n",
    "plt.legend(handles=[red_patch, blue_patch])\n",
    "plt.ylabel('Time (s)')\n",
    "plt.xlabel('Cost (km)')\n",
    "plt.title('TSP Costs vs. Time for Greedy Solutions')\n",
    "plt.show()"
   ]
  },
  {
   "cell_type": "markdown",
   "metadata": {},
   "source": [
    "As one can see, the extra time needed to compute the slightly better solution using greedy solution 2 is not worth it probably.  \n",
    "Keep in mind though that the implementation of the second greedy solution could be optimized, maybe even by a lot, but I believe that the results would still hold, based on the level of efficiency I estimated my developed code to have.\n",
    "\n",
    "This could be already considered an example analysis of the goal of the current laboratory, which was stated to be — alongside the exploration of solutions to the tsp — the finding of solutions that have slightly worse results than the best presented, but can find them much faster. Anyway, I will keep exploring other solutions using evolution and genetic operators."
   ]
  },
  {
   "cell_type": "code",
   "execution_count": 10,
   "metadata": {},
   "outputs": [
    {
     "name": "stderr",
     "output_type": "stream",
     "text": [
      "Processing TSP files: 100%|██████████| 10/10 [00:00<00:00, 2502.27it/s]"
     ]
    },
    {
     "name": "stdout",
     "output_type": "stream",
     "text": [
      "Country Algorithm    Cost (km)  Time (s)\n",
      "  china   Greedy1 63962.918429       1.2\n",
      "  china   Greedy2 59367.316192    6142.5\n",
      "  italy   Greedy1  4436.031770       0.1\n",
      "  italy   Greedy2  4730.052334       0.1\n",
      " russia   Greedy1 42334.164657       0.2\n",
      " russia   Greedy2 39758.479041      15.3\n",
      "     us   Greedy1 48050.025864       0.5\n",
      "     us   Greedy2 45845.918712     180.0\n",
      "vanuatu   Greedy1  1475.528091       0.0\n",
      "vanuatu   Greedy2  1475.528091       0.0\n"
     ]
    },
    {
     "name": "stderr",
     "output_type": "stream",
     "text": [
      "\n"
     ]
    }
   ],
   "source": [
    "import os\n",
    "import pickle\n",
    "import pandas as pd\n",
    "from tqdm import tqdm\n",
    "\n",
    "def load_all_pkl_files(directory):\n",
    "    # Take only files containing .pkl and greedy\n",
    "    pkl_files = [f for f in os.listdir(directory) if f.endswith('.pkl')]\n",
    "    pkl_files = [f for f in pkl_files if 'greedy' in f]\n",
    "\n",
    "    # Load all the data\n",
    "    data = {}\n",
    "    for pkl_file in pkl_files:\n",
    "        with open(os.path.join(directory, pkl_file), 'rb') as file:\n",
    "            data[pkl_file] = pickle.load(file)\n",
    "    return data\n",
    "\n",
    "directory = './tsp_pickles'\n",
    "all_data = load_all_pkl_files(directory)\n",
    "\n",
    "times = {\n",
    "    \"china_tsp_greedy1.pkl\": 1.2,\n",
    "    \"china_tsp_greedy2.pkl\": 6142.5,\n",
    "    \"italy_tsp_greedy1.pkl\": 0.1,\n",
    "    \"italy_tsp_greedy2.pkl\": 0.1,\n",
    "    \"russia_tsp_greedy1.pkl\": 0.2,\n",
    "    \"russia_tsp_greedy2.pkl\": 15.3,\n",
    "    \"us_tsp_greedy1.pkl\": 0.5,\n",
    "    \"us_tsp_greedy2.pkl\": 180.0,\n",
    "    \"vanuatu_tsp_greedy1.pkl\": 0.0,\n",
    "    \"vanuatu_tsp_greedy2.pkl\": 0.0\n",
    "}\n",
    "\n",
    "# Collect data for the table\n",
    "table_data = []\n",
    "\n",
    "for name, tsp in tqdm(all_data.items(), desc=\"Processing TSP files\"):\n",
    "    country = name.split('_')[0]\n",
    "    algorithm = 'Greedy1' if 'greedy1' in name else 'Greedy2'\n",
    "    CITIES, DIST_MATRIX = initialize(country)\n",
    "    cost = tsp_cost(tsp)\n",
    "    time = times[name]\n",
    "    table_data.append({\n",
    "        'Country': country,\n",
    "        'Algorithm': algorithm,\n",
    "        'Cost (km)': cost,\n",
    "        'Time (s)': time\n",
    "    })\n",
    "\n",
    "# Create DataFrame\n",
    "df = pd.DataFrame(table_data)\n",
    "\n",
    "# Optionally, sort the DataFrame\n",
    "df = df.sort_values(by=['Country', 'Algorithm'])\n",
    "\n",
    "# Print the table\n",
    "print(df.to_string(index=False))"
   ]
  }
 ],
 "metadata": {
  "kernelspec": {
   "display_name": ".venv",
   "language": "python",
   "name": "python3"
  },
  "language_info": {
   "codemirror_mode": {
    "name": "ipython",
    "version": 3
   },
   "file_extension": ".py",
   "mimetype": "text/x-python",
   "name": "python",
   "nbconvert_exporter": "python",
   "pygments_lexer": "ipython3",
   "version": "3.12.6"
  }
 },
 "nbformat": 4,
 "nbformat_minor": 2
}
